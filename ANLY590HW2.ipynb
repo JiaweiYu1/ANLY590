{
 "cells": [
  {
   "cell_type": "markdown",
   "metadata": {
    "colab_type": "text",
    "id": "BOUhpYYk2Ypt"
   },
   "source": [
    "1. Autoencoder"
   ]
  },
  {
   "cell_type": "code",
   "execution_count": 0,
   "metadata": {
    "colab": {},
    "colab_type": "code",
    "id": "zS3RLC_92UYp"
   },
   "outputs": [],
   "source": [
    "from keras.layers import Input, Dense, Conv2D, MaxPooling2D, UpSampling2D,LSTM,Conv1D,GlobalMaxPooling1D\n",
    "from keras.models import Model\n",
    "from keras import backend as K\n",
    "from keras.datasets import fashion_mnist\n",
    "from keras.callbacks import TensorBoard\n",
    "import matplotlib.pyplot as plt\n",
    "import numpy as np\n",
    "%matplotlib inline\n",
    "from keras.models import Sequential\n",
    "from keras.layers import Dropout, Flatten\n",
    "from keras.utils import np_utils\n",
    "from keras.applications import VGG16\n",
    "import cv2\n",
    "from urllib.request import urlopen\n",
    "import pandas as pd\n",
    "from keras.preprocessing.text import Tokenizer\n",
    "from sklearn.model_selection import train_test_split\n",
    "from keras.layers.embeddings import Embedding\n",
    "from keras.preprocessing import sequence\n",
    "from sklearn.metrics import roc_curve\n",
    "from sklearn.metrics import auc"
   ]
  },
  {
   "cell_type": "code",
   "execution_count": 0,
   "metadata": {
    "colab": {},
    "colab_type": "code",
    "id": "kNFV5s-n2guT"
   },
   "outputs": [],
   "source": [
    "input_img = Input(shape=(28, 28, 1))  # adapt this if using `channels_first` image data format\n",
    "\n",
    "x = Conv2D(16, (3, 3), activation='relu', padding='same')(input_img)\n",
    "x = MaxPooling2D((2, 2), padding='same')(x)\n",
    "x = Conv2D(8, (3, 3), activation='relu', padding='same')(x)\n",
    "x = MaxPooling2D((2, 2), padding='same')(x)\n",
    "x = Conv2D(8, (3, 3), activation='relu', padding='same')(x)\n",
    "encoded = MaxPooling2D((2, 2), padding='same')(x)\n",
    "\n",
    "# at this point the representation is (4, 4, 8) i.e. 128-dimensional\n",
    "\n",
    "x = Conv2D(8, (3, 3), activation='relu', padding='same')(encoded)\n",
    "x = UpSampling2D((2, 2))(x)\n",
    "x = Conv2D(8, (3, 3), activation='relu', padding='same')(x)\n",
    "x = UpSampling2D((2, 2))(x)\n",
    "x = Conv2D(16, (3, 3), activation='relu')(x)\n",
    "x = UpSampling2D((2, 2))(x)\n",
    "decoded = Conv2D(1, (3, 3), activation='sigmoid', padding='same')(x)\n",
    "\n",
    "autoencoder = Model(input_img, decoded)\n",
    "autoencoder.compile(optimizer='adadelta', loss='binary_crossentropy')"
   ]
  },
  {
   "cell_type": "code",
   "execution_count": 0,
   "metadata": {
    "colab": {},
    "colab_type": "code",
    "id": "LVbkktHb2jNX"
   },
   "outputs": [],
   "source": [
    "(x_train, y_train), (x_test, y_test) = fashion_mnist.load_data()"
   ]
  },
  {
   "cell_type": "code",
   "execution_count": 0,
   "metadata": {
    "colab": {},
    "colab_type": "code",
    "id": "Sij1SqS_2lyP"
   },
   "outputs": [],
   "source": [
    "x_train = x_train.astype('float32') / 255.\n",
    "x_test = x_test.astype('float32') / 255.\n",
    "x_train = np.reshape(x_train, (len(x_train), 28, 28, 1))  # adapt this if using `channels_first` image data format\n",
    "x_test = np.reshape(x_test, (len(x_test), 28, 28, 1))  # adapt this if using `channels_first` image data format"
   ]
  },
  {
   "cell_type": "code",
   "execution_count": 0,
   "metadata": {
    "colab": {
     "base_uri": "https://localhost:8080/",
     "height": 1020
    },
    "colab_type": "code",
    "id": "pCe0caIA2pIK",
    "outputId": "9e0633e3-54e8-4f83-a552-c44ee0b3773c"
   },
   "outputs": [
    {
     "name": "stdout",
     "output_type": "stream",
     "text": [
      "Train on 60000 samples, validate on 10000 samples\n",
      "Epoch 1/15\n",
      "60000/60000 [==============================] - 9s 148us/step - loss: 0.3803 - val_loss: 0.3405\n",
      "Epoch 2/15\n",
      "60000/60000 [==============================] - 7s 114us/step - loss: 0.3254 - val_loss: 0.3164\n",
      "Epoch 3/15\n",
      "60000/60000 [==============================] - 7s 114us/step - loss: 0.3130 - val_loss: 0.3083\n",
      "Epoch 4/15\n",
      "60000/60000 [==============================] - 7s 111us/step - loss: 0.3067 - val_loss: 0.3060\n",
      "Epoch 5/15\n",
      "60000/60000 [==============================] - 7s 110us/step - loss: 0.3029 - val_loss: 0.3046\n",
      "Epoch 6/15\n",
      "60000/60000 [==============================] - 7s 110us/step - loss: 0.3002 - val_loss: 0.3044\n",
      "Epoch 7/15\n",
      "60000/60000 [==============================] - 7s 109us/step - loss: 0.2983 - val_loss: 0.2981\n",
      "Epoch 8/15\n",
      "60000/60000 [==============================] - 7s 111us/step - loss: 0.2968 - val_loss: 0.2995\n",
      "Epoch 9/15\n",
      "60000/60000 [==============================] - 6s 108us/step - loss: 0.2954 - val_loss: 0.2974\n",
      "Epoch 10/15\n",
      "60000/60000 [==============================] - 6s 108us/step - loss: 0.2945 - val_loss: 0.2969\n",
      "Epoch 11/15\n",
      "60000/60000 [==============================] - 6s 108us/step - loss: 0.2935 - val_loss: 0.2957\n",
      "Epoch 12/15\n",
      "60000/60000 [==============================] - 7s 110us/step - loss: 0.2929 - val_loss: 0.2931\n",
      "Epoch 13/15\n",
      "60000/60000 [==============================] - 7s 109us/step - loss: 0.2917 - val_loss: 0.2914\n",
      "Epoch 14/15\n",
      "60000/60000 [==============================] - 7s 109us/step - loss: 0.2913 - val_loss: 0.2914\n",
      "Epoch 15/15\n",
      "60000/60000 [==============================] - 7s 109us/step - loss: 0.2909 - val_loss: 0.2930\n"
     ]
    },
    {
     "data": {
      "text/plain": [
       "<keras.callbacks.History at 0x7fad056f1da0>"
      ]
     },
     "execution_count": 5,
     "metadata": {
      "tags": []
     },
     "output_type": "execute_result"
    }
   ],
   "source": [
    "autoencoder.fit(x_train, x_train,\n",
    "                epochs=15,\n",
    "                batch_size=128,\n",
    "                shuffle=True,\n",
    "                validation_data=(x_test, x_test))"
   ]
  },
  {
   "cell_type": "code",
   "execution_count": 0,
   "metadata": {
    "colab": {
     "base_uri": "https://localhost:8080/",
     "height": 284
    },
    "colab_type": "code",
    "id": "0BQ5-g482pQ9",
    "outputId": "88dde20e-2bf7-441b-fc41-fe3d28b906e2"
   },
   "outputs": [
    {
     "data": {
      "image/png": "[encoded data removed]",
      "text/plain": [
       "<matplotlib.figure.Figure at 0x7fad056f1d68>"
      ]
     },
     "metadata": {
      "tags": []
     },
     "output_type": "display_data"
    }
   ],
   "source": [
    "decoded_imgs = autoencoder.predict(x_test)\n",
    "\n",
    "n = 10\n",
    "plt.figure(figsize=(20, 4))\n",
    "for i in range(n):\n",
    "    # display original\n",
    "    ax = plt.subplot(2, n, i+1)\n",
    "    plt.imshow(x_test[i].reshape(28, 28))\n",
    "    plt.gray()\n",
    "    ax.get_xaxis().set_visible(False)\n",
    "    ax.get_yaxis().set_visible(False)\n",
    "\n",
    "    # display reconstruction\n",
    "    ax = plt.subplot(2, n, i + n+1)\n",
    "    plt.imshow(decoded_imgs[i].reshape(28, 28))\n",
    "    plt.gray()\n",
    "    ax.get_xaxis().set_visible(False)\n",
    "    ax.get_yaxis().set_visible(False)\n",
    "plt.show()"
   ]
  },
  {
   "cell_type": "markdown",
   "metadata": {
    "colab_type": "text",
    "id": "mRfvd1jC2wFF"
   },
   "source": [
    "2. Image Classification"
   ]
  },
  {
   "cell_type": "markdown",
   "metadata": {
    "colab_type": "text",
    "id": "3ljh7pGC20zU"
   },
   "source": [
    "2.1 Deep CNN"
   ]
  },
  {
   "cell_type": "code",
   "execution_count": 0,
   "metadata": {
    "colab": {},
    "colab_type": "code",
    "id": "jmd1Cnnc2ueW"
   },
   "outputs": [],
   "source": [
    "y_train = np_utils.to_categorical(y_train, 10)\n",
    "y_test = np_utils.to_categorical(y_test, 10)"
   ]
  },
  {
   "cell_type": "code",
   "execution_count": 0,
   "metadata": {
    "colab": {
     "base_uri": "https://localhost:8080/",
     "height": 408
    },
    "colab_type": "code",
    "id": "GNTvEXs223-U",
    "outputId": "0e820298-64d5-49f6-9b00-cd0d26b38b3b"
   },
   "outputs": [
    {
     "name": "stdout",
     "output_type": "stream",
     "text": [
      "_________________________________________________________________\n",
      "Layer (type)                 Output Shape              Param #   \n",
      "=================================================================\n",
      "conv2d_8 (Conv2D)            (None, 26, 26, 32)        320       \n",
      "_________________________________________________________________\n",
      "conv2d_9 (Conv2D)            (None, 24, 24, 64)        18496     \n",
      "_________________________________________________________________\n",
      "max_pooling2d_4 (MaxPooling2 (None, 12, 12, 64)        0         \n",
      "_________________________________________________________________\n",
      "dropout_1 (Dropout)          (None, 12, 12, 64)        0         \n",
      "_________________________________________________________________\n",
      "flatten_1 (Flatten)          (None, 9216)              0         \n",
      "_________________________________________________________________\n",
      "dense_1 (Dense)              (None, 128)               1179776   \n",
      "_________________________________________________________________\n",
      "dropout_2 (Dropout)          (None, 128)               0         \n",
      "_________________________________________________________________\n",
      "dense_2 (Dense)              (None, 10)                1290      \n",
      "=================================================================\n",
      "Total params: 1,199,882\n",
      "Trainable params: 1,199,882\n",
      "Non-trainable params: 0\n",
      "_________________________________________________________________\n"
     ]
    }
   ],
   "source": [
    "model = Sequential()\n",
    "#add the Conv2D layer with kernel size 3*3 and relu activatioin function with stride 1\n",
    "model.add(Conv2D(32, kernel_size=(3, 3),\n",
    "                 activation='relu',\n",
    "                 input_shape=(28,28,1)))\n",
    "#add the remaining layers with 2 by 2 Maxpooling layer and 0.25 Dropout rate\n",
    "model.add(Conv2D(64, (3, 3), activation='relu'))\n",
    "#using 2*2 size for max pooling\n",
    "model.add(MaxPooling2D(pool_size=(2, 2)))\n",
    "model.add(Dropout(0.25))\n",
    "#the fully connected layer with 128 Dense nodes, and 0.5 Dropout rate\n",
    "model.add(Flatten())\n",
    "model.add(Dense(128, activation='relu'))\n",
    "model.add(Dropout(0.5))\n",
    "#Class layer\n",
    "model.add(Dense(10, activation='softmax'))\n",
    "# Take a look at the model summary\n",
    "model.summary()"
   ]
  },
  {
   "cell_type": "code",
   "execution_count": 0,
   "metadata": {
    "colab": {},
    "colab_type": "code",
    "id": "lGGFvnaQ27h3"
   },
   "outputs": [],
   "source": [
    "model.compile(loss='categorical_crossentropy',\n",
    "             optimizer='adam',\n",
    "             metrics=['accuracy'])"
   ]
  },
  {
   "cell_type": "code",
   "execution_count": 0,
   "metadata": {
    "colab": {
     "base_uri": "https://localhost:8080/",
     "height": 1020
    },
    "colab_type": "code",
    "id": "bEaya-jo29rY",
    "outputId": "9dd814c2-ac89-438a-bc75-07962b7a7167"
   },
   "outputs": [
    {
     "name": "stdout",
     "output_type": "stream",
     "text": [
      "Epoch 1/10\n",
      "60000/60000 [==============================] - 21s 351us/step - loss: 0.4790 - acc: 0.8308\n",
      "Epoch 2/10\n",
      "60000/60000 [==============================] - 21s 348us/step - loss: 0.3196 - acc: 0.8845\n",
      "Epoch 3/10\n",
      "60000/60000 [==============================] - 21s 351us/step - loss: 0.2728 - acc: 0.8997\n",
      "Epoch 4/10\n",
      "60000/60000 [==============================] - 21s 351us/step - loss: 0.2428 - acc: 0.9107\n",
      "Epoch 5/10\n",
      "60000/60000 [==============================] - 21s 352us/step - loss: 0.2198 - acc: 0.9187\n",
      "Epoch 6/10\n",
      "60000/60000 [==============================] - 21s 351us/step - loss: 0.2013 - acc: 0.9248\n",
      "Epoch 7/10\n",
      "60000/60000 [==============================] - 21s 354us/step - loss: 0.1881 - acc: 0.9294\n",
      "Epoch 8/10\n",
      "60000/60000 [==============================] - 21s 351us/step - loss: 0.1748 - acc: 0.9356\n",
      "Epoch 9/10\n",
      "60000/60000 [==============================] - 21s 351us/step - loss: 0.1631 - acc: 0.9388\n",
      "Epoch 10/10\n",
      "60000/60000 [==============================] - 21s 351us/step - loss: 0.1529 - acc: 0.9422\n"
     ]
    }
   ],
   "source": [
    "history = model.fit(x=x_train,y=y_train, epochs=10,batch_size=32)"
   ]
  },
  {
   "cell_type": "code",
   "execution_count": 0,
   "metadata": {
    "colab": {
     "base_uri": "https://localhost:8080/",
     "height": 51
    },
    "colab_type": "code",
    "id": "nrgkoxPI3By2",
    "outputId": "e690a4f0-eacc-41bf-a61a-671dfa4f9366"
   },
   "outputs": [
    {
     "name": "stdout",
     "output_type": "stream",
     "text": [
      "\n",
      " Test accuracy: 0.9296\n"
     ]
    }
   ],
   "source": [
    "# Evaluate the model on test set\n",
    "score = model.evaluate(x_test, y_test, verbose=0)\n",
    "# Print test accuracy\n",
    "print('\\n', 'Test accuracy:', score[1])"
   ]
  },
  {
   "cell_type": "code",
   "execution_count": 0,
   "metadata": {
    "colab": {
     "base_uri": "https://localhost:8080/",
     "height": 51
    },
    "colab_type": "code",
    "id": "y-TvMsk23CT6",
    "outputId": "9fd3d4e2-8722-4c95-b1a6-397c0bad60fb"
   },
   "outputs": [
    {
     "name": "stdout",
     "output_type": "stream",
     "text": [
      "\n",
      " Training accuracy: 0.9699166666666666\n"
     ]
    }
   ],
   "source": [
    "score_1 = model.evaluate(x_train, y_train, verbose=0)\n",
    "# Print training accuracy\n",
    "print('\\n', 'Training accuracy:', score_1[1])"
   ]
  },
  {
   "cell_type": "markdown",
   "metadata": {
    "colab_type": "text",
    "id": "mto_t1DP3GVJ"
   },
   "source": [
    "2.2 Transfer learning"
   ]
  },
  {
   "cell_type": "code",
   "execution_count": 0,
   "metadata": {
    "colab": {
     "base_uri": "https://localhost:8080/",
     "height": 434
    },
    "colab_type": "code",
    "id": "Z4wIVnsS3EHl",
    "outputId": "eaf94871-90a9-4d08-ca56-fb219674f69c"
   },
   "outputs": [
    {
     "name": "stdout",
     "output_type": "stream",
     "text": [
      "Downloading data from https://github.com/fchollet/deep-learning-models/releases/download/v0.1/vgg16_weights_tf_dim_ordering_tf_kernels_notop.h5\n",
      "58892288/58889256 [==============================] - 2s 0us/step\n"
     ]
    }
   ],
   "source": [
    "base_model = VGG16(weights=\"imagenet\",include_top=False,input_shape=(48,48,3))"
   ]
  },
  {
   "cell_type": "code",
   "execution_count": 0,
   "metadata": {
    "colab": {
     "base_uri": "https://localhost:8080/",
     "height": 34
    },
    "colab_type": "code",
    "id": "7aB47Tqn3N1J",
    "outputId": "4b281066-164f-4a2a-9812-a92caab46bb4"
   },
   "outputs": [
    {
     "data": {
      "text/plain": [
       "((60000, 48, 48, 3), (10000, 48, 48, 3))"
      ]
     },
     "execution_count": 14,
     "metadata": {
      "tags": []
     },
     "output_type": "execute_result"
    }
   ],
   "source": [
    "x_train_2 = np.dstack([x_train] * 3)\n",
    "x_test_2 = np.dstack([x_test] * 3)\n",
    "\n",
    "x_train_2 = x_train_2.reshape(-1, 28, 28, 3)\n",
    "x_test_2 = x_test_2.reshape (-1, 28, 28, 3)\n",
    "\n",
    "x_train_2 = np.asarray([cv2.resize(i, (48,48)) for i in x_train_2])\n",
    "x_test_2 = np.asarray([cv2.resize(i, (48,48)) for i in x_test_2])\n",
    "\n",
    "\n",
    "x_train_2.shape, x_test_2.shape"
   ]
  },
  {
   "cell_type": "code",
   "execution_count": 0,
   "metadata": {
    "colab": {},
    "colab_type": "code",
    "id": "N89B0X0d3QBh"
   },
   "outputs": [],
   "source": [
    "model_2 = Sequential()\n",
    "model_2.add(base_model)\n",
    "model_2.add(Flatten())\n",
    "model_2.add(Dense(128, activation='relu'))\n",
    "model_2.add(Dropout(0.5))\n",
    "model_2.add(Dense(10, activation='softmax'))"
   ]
  },
  {
   "cell_type": "code",
   "execution_count": 0,
   "metadata": {
    "colab": {
     "base_uri": "https://localhost:8080/",
     "height": 306
    },
    "colab_type": "code",
    "id": "K_e9hvab3SfH",
    "outputId": "959ecf9d-95dc-4322-b24a-208ffed0e9e3"
   },
   "outputs": [
    {
     "name": "stdout",
     "output_type": "stream",
     "text": [
      "_________________________________________________________________\n",
      "Layer (type)                 Output Shape              Param #   \n",
      "=================================================================\n",
      "vgg16 (Model)                (None, 1, 1, 512)         14714688  \n",
      "_________________________________________________________________\n",
      "flatten_2 (Flatten)          (None, 512)               0         \n",
      "_________________________________________________________________\n",
      "dense_3 (Dense)              (None, 128)               65664     \n",
      "_________________________________________________________________\n",
      "dropout_3 (Dropout)          (None, 128)               0         \n",
      "_________________________________________________________________\n",
      "dense_4 (Dense)              (None, 10)                1290      \n",
      "=================================================================\n",
      "Total params: 14,781,642\n",
      "Trainable params: 14,781,642\n",
      "Non-trainable params: 0\n",
      "_________________________________________________________________\n"
     ]
    }
   ],
   "source": [
    "model_2.summary()"
   ]
  },
  {
   "cell_type": "code",
   "execution_count": 0,
   "metadata": {
    "colab": {},
    "colab_type": "code",
    "id": "PtBHjhDB3V38"
   },
   "outputs": [],
   "source": [
    "model_2.compile(loss='categorical_crossentropy', optimizer='adam',metrics=[\"accuracy\"])"
   ]
  },
  {
   "cell_type": "code",
   "execution_count": 0,
   "metadata": {
    "colab": {
     "base_uri": "https://localhost:8080/",
     "height": 1020
    },
    "colab_type": "code",
    "id": "9uOSZc1u3Ypr",
    "outputId": "82165a6e-58ff-4fd5-f5af-70a611c27c78"
   },
   "outputs": [
    {
     "name": "stdout",
     "output_type": "stream",
     "text": [
      "Train on 60000 samples, validate on 10000 samples\n",
      "Epoch 1/10\n",
      "60000/60000 [==============================] - 118s 2ms/step - loss: 1.5164 - acc: 0.3947 - val_loss: 0.9464 - val_acc: 0.6403\n",
      "Epoch 2/10\n",
      "60000/60000 [==============================] - 113s 2ms/step - loss: 0.6266 - acc: 0.7658 - val_loss: 0.5762 - val_acc: 0.7938\n",
      "Epoch 3/10\n",
      "60000/60000 [==============================] - 113s 2ms/step - loss: 0.4477 - acc: 0.8445 - val_loss: 0.3840 - val_acc: 0.8631\n",
      "Epoch 4/10\n",
      "60000/60000 [==============================] - 112s 2ms/step - loss: 0.3814 - acc: 0.8668 - val_loss: 0.3621 - val_acc: 0.8741\n",
      "Epoch 5/10\n",
      "60000/60000 [==============================] - 112s 2ms/step - loss: 0.3478 - acc: 0.8784 - val_loss: 0.3692 - val_acc: 0.8621\n",
      "Epoch 6/10\n",
      "60000/60000 [==============================] - 112s 2ms/step - loss: 0.3189 - acc: 0.8877 - val_loss: 0.3375 - val_acc: 0.8766\n",
      "Epoch 7/10\n",
      "60000/60000 [==============================] - 112s 2ms/step - loss: 0.2805 - acc: 0.9014 - val_loss: 0.3116 - val_acc: 0.8895\n",
      "Epoch 8/10\n",
      "60000/60000 [==============================] - 112s 2ms/step - loss: 0.2838 - acc: 0.9009 - val_loss: 0.2969 - val_acc: 0.8987\n",
      "Epoch 9/10\n",
      "60000/60000 [==============================] - 112s 2ms/step - loss: 0.2683 - acc: 0.9054 - val_loss: 0.2826 - val_acc: 0.9039\n",
      "Epoch 10/10\n",
      "60000/60000 [==============================] - 112s 2ms/step - loss: 0.2580 - acc: 0.9103 - val_loss: 0.3014 - val_acc: 0.8951\n"
     ]
    }
   ],
   "source": [
    "history_2 = model_2.fit(x_train_2,y_train, \n",
    "                    epochs=10, \n",
    "                    batch_size=128,\n",
    "                    verbose = 1,\n",
    "                    validation_data = (x_test_2, y_test))"
   ]
  },
  {
   "cell_type": "code",
   "execution_count": 0,
   "metadata": {
    "colab": {
     "base_uri": "https://localhost:8080/",
     "height": 51
    },
    "colab_type": "code",
    "id": "IxW8CvllONEu",
    "outputId": "db113bd5-8796-4302-8c24-5d527d769c61"
   },
   "outputs": [
    {
     "name": "stdout",
     "output_type": "stream",
     "text": [
      "\n",
      " Test accuracy: 0.8951\n"
     ]
    }
   ],
   "source": [
    "# Evaluate the model on test set\n",
    "score_2 = model_2.evaluate(x_test_2, y_test, verbose=0)\n",
    "# Print test accuracy\n",
    "print('\\n', 'Test accuracy:', score_2[1])"
   ]
  },
  {
   "cell_type": "code",
   "execution_count": 0,
   "metadata": {
    "colab": {
     "base_uri": "https://localhost:8080/",
     "height": 282
    },
    "colab_type": "code",
    "id": "oyUZOvcYN2to",
    "outputId": "f6fc411a-993c-4361-e55c-4ef5a91f0483"
   },
   "outputs": [
    {
     "data": {
      "text/plain": [
       "<matplotlib.legend.Legend at 0x7facea627da0>"
      ]
     },
     "execution_count": 22,
     "metadata": {
      "tags": []
     },
     "output_type": "execute_result"
    },
    {
     "data": {
      "image/png": "[encoded data removed]",
      "text/plain": [
       "<matplotlib.figure.Figure at 0x7facec7c4dd8>"
      ]
     },
     "metadata": {
      "tags": []
     },
     "output_type": "display_data"
    }
   ],
   "source": [
    "plt.plot(history_2.history['loss'])\n",
    "plt.plot(history_2.history['val_loss'])\n",
    "plt.legend(['train', 'test'], loc='upper right')"
   ]
  },
  {
   "cell_type": "markdown",
   "metadata": {
    "colab_type": "text",
    "id": "aekautp_659e"
   },
   "source": [
    "3. Text Classification"
   ]
  },
  {
   "cell_type": "markdown",
   "metadata": {
    "colab_type": "text",
    "id": "fXjSLGNk68Xb"
   },
   "source": [
    "3.1 RNN"
   ]
  },
  {
   "cell_type": "code",
   "execution_count": 0,
   "metadata": {
    "colab": {},
    "colab_type": "code",
    "id": "kYmuxwQO6-R9"
   },
   "outputs": [],
   "source": [
    "benign_urls = urlopen('https://s3.amazonaws.com/anly-590/url-classification/benign-urls.txt').read().decode(\"utf-8\").split(\"\\n\")\n",
    "malicious_urls = urlopen('https://s3.amazonaws.com/anly-590/url-classification/malicious-urls.txt').read().decode(\"utf-8\").split(\"\\n\")"
   ]
  },
  {
   "cell_type": "code",
   "execution_count": 0,
   "metadata": {
    "colab": {},
    "colab_type": "code",
    "id": "Yi-aizgmPKpU"
   },
   "outputs": [],
   "source": [
    "benign = pd.DataFrame(benign_urls)\n",
    "malicious = pd.DataFrame(malicious_urls)"
   ]
  },
  {
   "cell_type": "code",
   "execution_count": 0,
   "metadata": {
    "colab": {},
    "colab_type": "code",
    "id": "rxdbvMEYQBtQ"
   },
   "outputs": [],
   "source": [
    "benign.columns = ['urls']\n",
    "malicious.columns = ['urls']\n",
    "\n",
    "benign['ben_mal'] = 0\n",
    "malicious['ben_mal'] = 1\n",
    "#benign.head()\n",
    "#malicious.head()"
   ]
  },
  {
   "cell_type": "code",
   "execution_count": 0,
   "metadata": {
    "colab": {
     "base_uri": "https://localhost:8080/",
     "height": 204
    },
    "colab_type": "code",
    "id": "rKKQywCYbSzH",
    "outputId": "df56ae31-a084-424f-ca09-0a44cf14c25d"
   },
   "outputs": [
    {
     "data": {
      "text/html": [
       "<div>\n",
       "<style scoped>\n",
       "    .dataframe tbody tr th:only-of-type {\n",
       "        vertical-align: middle;\n",
       "    }\n",
       "\n",
       "    .dataframe tbody tr th {\n",
       "        vertical-align: top;\n",
       "    }\n",
       "\n",
       "    .dataframe thead th {\n",
       "        text-align: right;\n",
       "    }\n",
       "</style>\n",
       "<table border=\"1\" class=\"dataframe\">\n",
       "  <thead>\n",
       "    <tr style=\"text-align: right;\">\n",
       "      <th></th>\n",
       "      <th>urls</th>\n",
       "      <th>ben_mal</th>\n",
       "    </tr>\n",
       "  </thead>\n",
       "  <tbody>\n",
       "    <tr>\n",
       "      <th>0</th>\n",
       "      <td># GOOGLE</td>\n",
       "      <td>0</td>\n",
       "    </tr>\n",
       "    <tr>\n",
       "      <th>1</th>\n",
       "      <td>.0.blogger.gmodules.com</td>\n",
       "      <td>0</td>\n",
       "    </tr>\n",
       "    <tr>\n",
       "      <th>2</th>\n",
       "      <td>.0.client-channel.google.com</td>\n",
       "      <td>0</td>\n",
       "    </tr>\n",
       "    <tr>\n",
       "      <th>3</th>\n",
       "      <td>.0.docs.google.com</td>\n",
       "      <td>0</td>\n",
       "    </tr>\n",
       "    <tr>\n",
       "      <th>4</th>\n",
       "      <td>.0.drive.google.com</td>\n",
       "      <td>0</td>\n",
       "    </tr>\n",
       "  </tbody>\n",
       "</table>\n",
       "</div>"
      ],
      "text/plain": [
       "                           urls  ben_mal\n",
       "0                      # GOOGLE        0\n",
       "1       .0.blogger.gmodules.com        0\n",
       "2  .0.client-channel.google.com        0\n",
       "3            .0.docs.google.com        0\n",
       "4           .0.drive.google.com        0"
      ]
     },
     "execution_count": 18,
     "metadata": {
      "tags": []
     },
     "output_type": "execute_result"
    }
   ],
   "source": [
    "urls = pd.concat([benign, malicious])\n",
    "urls.head()"
   ]
  },
  {
   "cell_type": "code",
   "execution_count": 0,
   "metadata": {
    "colab": {},
    "colab_type": "code",
    "id": "CYSCzzDyYDBz"
   },
   "outputs": [],
   "source": [
    "tokenizer = Tokenizer(filters=None, char_level=True)\n",
    "tokenizer.fit_on_texts(urls['urls'])\n",
    "train_x = tokenizer.texts_to_sequences(urls['urls'])\n",
    "train_y = urls['ben_mal']\n",
    "train_x = sequence.pad_sequences(train_x)"
   ]
  },
  {
   "cell_type": "code",
   "execution_count": 0,
   "metadata": {
    "colab": {},
    "colab_type": "code",
    "id": "2cKyh5Xd0jEb"
   },
   "outputs": [],
   "source": [
    "max_length = max(len(tk)for tk in train_x)"
   ]
  },
  {
   "cell_type": "code",
   "execution_count": 0,
   "metadata": {
    "colab": {},
    "colab_type": "code",
    "id": "Cgws9clksqdA"
   },
   "outputs": [],
   "source": [
    "X_train_3, X_test_3, y_train_3, y_test_3 = train_test_split(train_x, train_y, test_size=0.35, random_state=15)"
   ]
  },
  {
   "cell_type": "code",
   "execution_count": 0,
   "metadata": {
    "colab": {},
    "colab_type": "code",
    "id": "kPm5evjttHZv"
   },
   "outputs": [],
   "source": [
    "rnn = Sequential()\n",
    "rnn.add(Embedding(5000, 32, input_length=max_length))\n",
    "rnn.add(LSTM(10, dropout=0.2, recurrent_dropout=0.2))\n",
    "rnn.add(Dense(1, activation=\"sigmoid\"))"
   ]
  },
  {
   "cell_type": "code",
   "execution_count": 0,
   "metadata": {
    "colab": {},
    "colab_type": "code",
    "id": "ZD8YVan-1WXx"
   },
   "outputs": [],
   "source": [
    "rnn.compile(loss = 'binary_crossentropy', optimizer='adam',metrics = ['accuracy'])"
   ]
  },
  {
   "cell_type": "code",
   "execution_count": 0,
   "metadata": {
    "colab": {
     "base_uri": "https://localhost:8080/",
     "height": 238
    },
    "colab_type": "code",
    "id": "b9s4Rd_r1naf",
    "outputId": "db7a2c67-b550-4d07-bfef-eadef69c8687"
   },
   "outputs": [
    {
     "name": "stdout",
     "output_type": "stream",
     "text": [
      "_________________________________________________________________\n",
      "Layer (type)                 Output Shape              Param #   \n",
      "=================================================================\n",
      "embedding_7 (Embedding)      (None, 86, 32)            160000    \n",
      "_________________________________________________________________\n",
      "lstm_3 (LSTM)                (None, 10)                1720      \n",
      "_________________________________________________________________\n",
      "dense_6 (Dense)              (None, 1)                 11        \n",
      "=================================================================\n",
      "Total params: 161,731\n",
      "Trainable params: 161,731\n",
      "Non-trainable params: 0\n",
      "_________________________________________________________________\n"
     ]
    }
   ],
   "source": [
    "rnn.summary()"
   ]
  },
  {
   "cell_type": "code",
   "execution_count": 0,
   "metadata": {
    "colab": {
     "base_uri": "https://localhost:8080/",
     "height": 1000
    },
    "colab_type": "code",
    "id": "qFA0k5Ik1OAb",
    "outputId": "4eeae7d1-e866-4f33-fe54-da8d98b023f3"
   },
   "outputs": [
    {
     "name": "stdout",
     "output_type": "stream",
     "text": [
      "Epoch 1/5\n",
      "43780/43780 [==============================] - 387s 9ms/step - loss: 0.0930 - acc: 0.9810\n",
      "Epoch 2/5\n",
      "43780/43780 [==============================] - 383s 9ms/step - loss: 0.0362 - acc: 0.9834\n",
      "Epoch 3/5\n",
      "43780/43780 [==============================] - 388s 9ms/step - loss: 0.0278 - acc: 0.9858\n",
      "Epoch 4/5\n",
      "43780/43780 [==============================] - 389s 9ms/step - loss: 0.0253 - acc: 0.9874\n",
      "Epoch 5/5\n",
      "43780/43780 [==============================] - 390s 9ms/step - loss: 0.0239 - acc: 0.9879\n"
     ]
    }
   ],
   "source": [
    "rnn_history = rnn.fit(X_train_3, y_train_3, batch_size =32, epochs = 5,  verbose = 1)"
   ]
  },
  {
   "cell_type": "code",
   "execution_count": 0,
   "metadata": {
    "colab": {
     "base_uri": "https://localhost:8080/",
     "height": 51
    },
    "colab_type": "code",
    "id": "DFdmMBTEBI0F",
    "outputId": "10957471-1b9f-43bb-b021-c8ab39cc960e"
   },
   "outputs": [
    {
     "name": "stdout",
     "output_type": "stream",
     "text": [
      "\n",
      " Test accuracy: 0.9889284805293967\n"
     ]
    }
   ],
   "source": [
    "# Evaluate the model on test set\n",
    "score_3 = rnn.evaluate(X_test_3, y_test_3, verbose=0)\n",
    "# Print test accuracy\n",
    "print('\\n', 'Test accuracy:', score_3[1])"
   ]
  },
  {
   "cell_type": "code",
   "execution_count": 0,
   "metadata": {
    "colab": {
     "base_uri": "https://localhost:8080/",
     "height": 282
    },
    "colab_type": "code",
    "id": "Lo4N8GANBT3O",
    "outputId": "cd08802d-549a-4db9-e364-65b41d64786a"
   },
   "outputs": [
    {
     "data": {
      "text/plain": [
       "[<matplotlib.lines.Line2D at 0x7f9a4ddf7c88>]"
      ]
     },
     "execution_count": 76,
     "metadata": {
      "tags": []
     },
     "output_type": "execute_result"
    },
    {
     "data": {
      "image/png": "[encoded data removed]",
      "text/plain": [
       "<matplotlib.figure.Figure at 0x7f9a4de6a320>"
      ]
     },
     "metadata": {
      "tags": []
     },
     "output_type": "display_data"
    }
   ],
   "source": [
    "plt.plot(rnn_history.history['loss'])"
   ]
  },
  {
   "cell_type": "markdown",
   "metadata": {
    "colab_type": "text",
    "id": "QbyPK9RILW9r"
   },
   "source": [
    "3.2 CNN"
   ]
  },
  {
   "cell_type": "code",
   "execution_count": 0,
   "metadata": {
    "colab": {},
    "colab_type": "code",
    "id": "kFwRTTi6LYrS"
   },
   "outputs": [],
   "source": [
    "cnn = Sequential()\n",
    "cnn.add(Embedding(5000, 64, input_length=max_length))\n",
    "cnn.add(Dropout(0.2))\n",
    "cnn.add(Conv1D(32, 5, activation='relu'))\n",
    "cnn.add(GlobalMaxPooling1D())\n",
    "cnn.add(Dropout(0.2))\n",
    "cnn.add(Dense(1, activation='sigmoid'))"
   ]
  },
  {
   "cell_type": "code",
   "execution_count": 0,
   "metadata": {
    "colab": {
     "base_uri": "https://localhost:8080/",
     "height": 340
    },
    "colab_type": "code",
    "id": "TkFp3PImMw07",
    "outputId": "7130a9fe-0952-4e1a-9736-1bc42a6f85f8"
   },
   "outputs": [
    {
     "name": "stdout",
     "output_type": "stream",
     "text": [
      "_________________________________________________________________\n",
      "Layer (type)                 Output Shape              Param #   \n",
      "=================================================================\n",
      "embedding_12 (Embedding)     (None, 86, 64)            320000    \n",
      "_________________________________________________________________\n",
      "dropout_5 (Dropout)          (None, 86, 64)            0         \n",
      "_________________________________________________________________\n",
      "conv1d_4 (Conv1D)            (None, 82, 32)            10272     \n",
      "_________________________________________________________________\n",
      "global_max_pooling1d_3 (Glob (None, 32)                0         \n",
      "_________________________________________________________________\n",
      "dropout_6 (Dropout)          (None, 32)                0         \n",
      "_________________________________________________________________\n",
      "dense_7 (Dense)              (None, 1)                 33        \n",
      "=================================================================\n",
      "Total params: 330,305\n",
      "Trainable params: 330,305\n",
      "Non-trainable params: 0\n",
      "_________________________________________________________________\n"
     ]
    }
   ],
   "source": [
    "cnn.compile(loss = 'binary_crossentropy', optimizer='rmsprop',metrics = ['acc'])\n",
    "cnn.summary()"
   ]
  },
  {
   "cell_type": "code",
   "execution_count": 0,
   "metadata": {
    "colab": {
     "base_uri": "https://localhost:8080/",
     "height": 1000
    },
    "colab_type": "code",
    "id": "pkMdk42-M5w0",
    "outputId": "e9d65514-3117-4e8b-9190-e19cc3cb03fd"
   },
   "outputs": [
    {
     "name": "stdout",
     "output_type": "stream",
     "text": [
      "Epoch 1/5\n",
      "43780/43780 [==============================] - 10s 238us/step - loss: 0.0267 - acc: 0.9889\n",
      "Epoch 2/5\n",
      "43780/43780 [==============================] - 10s 231us/step - loss: 0.0256 - acc: 0.9897\n",
      "Epoch 3/5\n",
      "43780/43780 [==============================] - 10s 228us/step - loss: 0.0257 - acc: 0.9902\n",
      "Epoch 4/5\n",
      "43780/43780 [==============================] - 10s 231us/step - loss: 0.0248 - acc: 0.9906\n",
      "Epoch 5/5\n",
      "43780/43780 [==============================] - 10s 235us/step - loss: 0.0244 - acc: 0.9908\n"
     ]
    }
   ],
   "source": [
    "cnn_history = cnn.fit(X_train_3, y_train_3, batch_size =32, epochs = 5,  verbose = 1)"
   ]
  },
  {
   "cell_type": "code",
   "execution_count": 0,
   "metadata": {
    "colab": {
     "base_uri": "https://localhost:8080/",
     "height": 51
    },
    "colab_type": "code",
    "id": "6OeCKmGHN88r",
    "outputId": "4957360d-cc11-4784-9cb8-caeb5ba302ea"
   },
   "outputs": [
    {
     "name": "stdout",
     "output_type": "stream",
     "text": [
      "\n",
      " Test accuracy: 0.9889284805293967\n"
     ]
    }
   ],
   "source": [
    "# Evaluate the model on test set\n",
    "score_4 = cnn.evaluate(X_test_3, y_test_3, verbose=0)\n",
    "# Print test accuracy\n",
    "print('\\n', 'Test accuracy:', score_4[1])"
   ]
  },
  {
   "cell_type": "markdown",
   "metadata": {
    "colab_type": "text",
    "id": "KB36lP_qOHto"
   },
   "source": [
    "3.3"
   ]
  },
  {
   "cell_type": "code",
   "execution_count": 0,
   "metadata": {
    "colab": {},
    "colab_type": "code",
    "id": "P_geDNMSO-XS"
   },
   "outputs": [],
   "source": [
    "y_test_3_preds_rnn = rnn.predict(X_test_3).ravel()\n",
    "rnn_fpr, rnn_tpr, rnn_thresholds = roc_curve(y_test_3, y_test_3_preds_rnn)\n",
    "rnn_auc = auc(rnn_fpr, rnn_tpr)\n",
    "\n",
    "y_test_3_preds_cnn = cnn.predict(X_test_3).ravel()\n",
    "cnn_fpr, cnn_tpr, cnn_thresholds = roc_curve(y_test_3, y_test_3_preds_cnn)\n",
    "cnn_auc = auc(cnn_fpr, cnn_tpr)"
   ]
  },
  {
   "cell_type": "code",
   "execution_count": 0,
   "metadata": {
    "colab": {
     "base_uri": "https://localhost:8080/",
     "height": 294
    },
    "colab_type": "code",
    "id": "0rGj5XJpRLyE",
    "outputId": "59b75675-3257-49d4-f10f-f95ad95066c0"
   },
   "outputs": [
    {
     "data": {
      "image/png": "[encoded data removed]",
      "text/plain": [
       "<matplotlib.figure.Figure at 0x7f9a4cb863c8>"
      ]
     },
     "metadata": {
      "tags": []
     },
     "output_type": "display_data"
    }
   ],
   "source": [
    "plt.figure()\n",
    "plt.plot(rnn_fpr, rnn_tpr, label='RNN (area = {:.3f})'.format(rnn_auc))\n",
    "plt.plot(cnn_fpr, cnn_tpr, label='CNN (area = {:.3f})'.format(cnn_auc))\n",
    "plt.xlabel('False positive rate')\n",
    "plt.ylabel('True positive rate')\n",
    "plt.title('ROC curve')\n",
    "plt.legend(loc='best')\n",
    "plt.show()"
   ]
  },
  {
   "cell_type": "markdown",
   "metadata": {
    "colab_type": "text",
    "id": "4_Tz8CJOrrrN"
   },
   "source": [
    "From the roc curve, we can see that the two neural networks have the similar performance"
   ]
  }
 ],
 "metadata": {
  "accelerator": "GPU",
  "colab": {
   "collapsed_sections": [],
   "name": "ANLY590HW2.ipynb",
   "provenance": [],
   "version": "0.3.2"
  },
  "kernelspec": {
   "display_name": "Python 3",
   "language": "python",
   "name": "python3"
  },
  "language_info": {
   "codemirror_mode": {
    "name": "ipython",
    "version": 3
   },
   "file_extension": ".py",
   "mimetype": "text/x-python",
   "name": "python",
   "nbconvert_exporter": "python",
   "pygments_lexer": "ipython3",
   "version": "3.6.4"
  }
 },
 "nbformat": 4,
 "nbformat_minor": 1
}
